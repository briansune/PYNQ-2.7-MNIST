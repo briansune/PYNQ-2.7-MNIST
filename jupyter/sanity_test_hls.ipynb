{
 "cells": [
  {
   "cell_type": "code",
   "execution_count": 1,
   "id": "f55a5f10",
   "metadata": {},
   "outputs": [
    {
     "data": {
      "application/javascript": [
       "\n",
       "try {\n",
       "require(['notebook/js/codecell'], function(codecell) {\n",
       "  codecell.CodeCell.options_default.highlight_modes[\n",
       "      'magic_text/x-csrc'] = {'reg':[/^%%microblaze/]};\n",
       "  Jupyter.notebook.events.one('kernel_ready.Kernel', function(){\n",
       "      Jupyter.notebook.get_cells().map(function(cell){\n",
       "          if (cell.cell_type == 'code'){ cell.auto_highlight(); } }) ;\n",
       "  });\n",
       "});\n",
       "} catch (e) {};\n"
      ]
     },
     "metadata": {},
     "output_type": "display_data"
    },
    {
     "data": {
      "application/javascript": [
       "\n",
       "try {\n",
       "require(['notebook/js/codecell'], function(codecell) {\n",
       "  codecell.CodeCell.options_default.highlight_modes[\n",
       "      'magic_text/x-csrc'] = {'reg':[/^%%pybind11/]};\n",
       "  Jupyter.notebook.events.one('kernel_ready.Kernel', function(){\n",
       "      Jupyter.notebook.get_cells().map(function(cell){\n",
       "          if (cell.cell_type == 'code'){ cell.auto_highlight(); } }) ;\n",
       "  });\n",
       "});\n",
       "} catch (e) {};\n"
      ]
     },
     "metadata": {},
     "output_type": "display_data"
    }
   ],
   "source": [
    "from pynq import Overlay, allocate\n",
    "import numpy as np"
   ]
  },
  {
   "cell_type": "code",
   "execution_count": 7,
   "id": "57d334fe",
   "metadata": {},
   "outputs": [],
   "source": [
    "overlay = Overlay('cnn.bit')"
   ]
  },
  {
   "cell_type": "code",
   "execution_count": 14,
   "id": "a55465db",
   "metadata": {},
   "outputs": [],
   "source": [
    "def load_fc(load_num):\n",
    "    t = [1] * 128 + [2] * 128 + [3] * 128 + [4] * 128 + [5] * 128 + [6] * 128 + [7] * 128 + [8] * 128 + [9] * 128 + [10] * 128\n",
    "   \n",
    "    OFMCH = 10\n",
    "    IFMCH = 128\n",
    "\n",
    "    KerDim = 1\n",
    "    IFMDim = 1\n",
    "    OFMDim = 1\n",
    "    \n",
    "    kernel = np.append([load_num, 0, KerDim, IFMCH, IFMDim, OFMCH, OFMDim], t)\n",
    "    print(kernel, len(kernel))\n",
    "\n",
    "    in_fc = allocate(shape=(len(kernel),), dtype=np.int16)\n",
    "    out_fc = allocate(shape=(len(kernel),), dtype=np.int16)\n",
    "\n",
    "    for i, v in enumerate(kernel):\n",
    "        in_fc[i] = v\n",
    "\n",
    "    overlay.memory.axi_dma_0.sendchannel.transfer(in_fc)\n",
    "    overlay.memory.axi_dma_0.recvchannel.transfer(out_fc)\n",
    "    overlay.memory.axi_dma_0.sendchannel.wait()\n",
    "    overlay.memory.axi_dma_0.recvchannel.wait()\n",
    "\n",
    "    print((in_fc == out_fc).all())\n",
    "    in_fc.close()\n",
    "    out_fc.close()"
   ]
  },
  {
   "cell_type": "code",
   "execution_count": 15,
   "id": "9700f844",
   "metadata": {},
   "outputs": [
    {
     "name": "stdout",
     "output_type": "stream",
     "text": [
      "[ 2  0  1 ... 10 10 10] 1287\n",
      "True\n"
     ]
    }
   ],
   "source": [
    "load_fc(2)"
   ]
  },
  {
   "cell_type": "code",
   "execution_count": 19,
   "id": "5bc24921",
   "metadata": {},
   "outputs": [
    {
     "name": "stdout",
     "output_type": "stream",
     "text": [
      "[  0   1   1 128   1  10   1  63 126 189 252 315 378 441 504 567 630]\n"
     ]
    }
   ],
   "source": [
    "in_buffer = allocate(shape=(7 + 128,), dtype=np.int16)\n",
    "out_buffer = allocate(shape=(17,), dtype=np.int16)\n",
    "\n",
    "input_val = np.append([0, 1, 1, 128, 1, 10, 1],  list(range(-32, 96))[::-1] )\n",
    "\n",
    "for i, v in enumerate(input_val):\n",
    "    in_buffer[i] = v\n",
    "\n",
    "\n",
    "overlay.memory.axi_dma_0.sendchannel.transfer(in_buffer)\n",
    "overlay.memory.axi_dma_0.recvchannel.transfer(out_buffer)\n",
    "overlay.memory.axi_dma_0.sendchannel.wait()\n",
    "overlay.memory.axi_dma_0.recvchannel.wait()\n",
    "\n",
    "\n",
    "print(out_buffer)\n",
    "\n",
    "in_buffer.close()\n",
    "out_buffer.close()"
   ]
  },
  {
   "cell_type": "code",
   "execution_count": null,
   "id": "de5ab9b2",
   "metadata": {},
   "outputs": [],
   "source": []
  }
 ],
 "metadata": {
  "kernelspec": {
   "display_name": "Python 3",
   "language": "python",
   "name": "python3"
  },
  "language_info": {
   "codemirror_mode": {
    "name": "ipython",
    "version": 3
   },
   "file_extension": ".py",
   "mimetype": "text/x-python",
   "name": "python",
   "nbconvert_exporter": "python",
   "pygments_lexer": "ipython3",
   "version": "3.8.2"
  }
 },
 "nbformat": 4,
 "nbformat_minor": 5
}

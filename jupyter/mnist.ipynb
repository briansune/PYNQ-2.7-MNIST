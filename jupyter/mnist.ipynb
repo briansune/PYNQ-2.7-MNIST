{
 "cells": [
  {
   "cell_type": "code",
   "execution_count": 1,
   "id": "e6d03e5d",
   "metadata": {},
   "outputs": [
    {
     "data": {
      "application/javascript": [
       "\n",
       "try {\n",
       "require(['notebook/js/codecell'], function(codecell) {\n",
       "  codecell.CodeCell.options_default.highlight_modes[\n",
       "      'magic_text/x-csrc'] = {'reg':[/^%%microblaze/]};\n",
       "  Jupyter.notebook.events.one('kernel_ready.Kernel', function(){\n",
       "      Jupyter.notebook.get_cells().map(function(cell){\n",
       "          if (cell.cell_type == 'code'){ cell.auto_highlight(); } }) ;\n",
       "  });\n",
       "});\n",
       "} catch (e) {};\n"
      ]
     },
     "metadata": {},
     "output_type": "display_data"
    },
    {
     "data": {
      "application/javascript": [
       "\n",
       "try {\n",
       "require(['notebook/js/codecell'], function(codecell) {\n",
       "  codecell.CodeCell.options_default.highlight_modes[\n",
       "      'magic_text/x-csrc'] = {'reg':[/^%%pybind11/]};\n",
       "  Jupyter.notebook.events.one('kernel_ready.Kernel', function(){\n",
       "      Jupyter.notebook.get_cells().map(function(cell){\n",
       "          if (cell.cell_type == 'code'){ cell.auto_highlight(); } }) ;\n",
       "  });\n",
       "});\n",
       "} catch (e) {};\n"
      ]
     },
     "metadata": {},
     "output_type": "display_data"
    }
   ],
   "source": [
    "import tflite_runtime.interpreter as tf\n",
    "from pynq import Overlay, allocate\n",
    "import numpy as np\n",
    "import random\n",
    "import time\n",
    "import pickle\n",
    "import matplotlib.pyplot as plt\n",
    "import random"
   ]
  },
  {
   "cell_type": "markdown",
   "id": "c4d832aa",
   "metadata": {},
   "source": [
    "# Tensorflow Lite Load Model"
   ]
  },
  {
   "cell_type": "code",
   "execution_count": 2,
   "id": "09acde4b",
   "metadata": {},
   "outputs": [
    {
     "name": "stdout",
     "output_type": "stream",
     "text": [
      "== Input details ==\n",
      "name: serving_default_input_1:0\n",
      "shape: [ 1 28 28  1]\n",
      "type: <class 'numpy.float32'>\n",
      "\n",
      "== Output details ==\n",
      "name: StatefulPartitionedCall:0\n",
      "shape: [ 1 10]\n",
      "type: <class 'numpy.float32'>\n"
     ]
    }
   ],
   "source": [
    "tflite_interpreter = tf.Interpreter(model_path='model.tflite')\n",
    "tflite_interpreter.allocate_tensors()\n",
    "\n",
    "input_details = tflite_interpreter.get_input_details()\n",
    "output_details = tflite_interpreter.get_output_details()\n",
    "\n",
    "print(\"== Input details ==\")\n",
    "print(\"name:\", input_details[0]['name'])\n",
    "print(\"shape:\", input_details[0]['shape'])\n",
    "print(\"type:\", input_details[0]['dtype'])\n",
    "print(\"\\n== Output details ==\")\n",
    "print(\"name:\", output_details[0]['name'])\n",
    "print(\"shape:\", output_details[0]['shape'])\n",
    "print(\"type:\", output_details[0]['dtype'])\n",
    "\n",
    "# tensor_details = tflite_interpreter.get_tensor_details()"
   ]
  },
  {
   "cell_type": "markdown",
   "id": "d50d00d8",
   "metadata": {},
   "source": [
    "# FPGA CNN Overlay Load"
   ]
  },
  {
   "cell_type": "code",
   "execution_count": 3,
   "id": "80c6efbb",
   "metadata": {},
   "outputs": [],
   "source": [
    "overlay = Overlay('cnn.bit')"
   ]
  },
  {
   "cell_type": "code",
   "execution_count": 4,
   "id": "911a0990",
   "metadata": {},
   "outputs": [],
   "source": [
    "dma = overlay.memory.axi_dma_0"
   ]
  },
  {
   "cell_type": "markdown",
   "id": "dcada4ee",
   "metadata": {},
   "source": [
    "# Load Conv Weights"
   ]
  },
  {
   "cell_type": "code",
   "execution_count": 5,
   "id": "09fdde05",
   "metadata": {},
   "outputs": [
    {
     "name": "stdout",
     "output_type": "stream",
     "text": [
      "(16, 5, 5, 1) int16\n",
      "10 -19\n",
      "[  1   0   5   1   1  16   1  -1   0  -6 -12  -8  -3  -9  -1   0  -5 -13\n",
      "  -5  -6   4  -4 -10  -1   4   5   3 -14 -16  -3  -3   0  -1 -10   0  -1\n",
      "   0 -12   0   0   0   0 -17   0  -1   2  -1  -7   0   1   1  -4  -4   0\n",
      "   0   2  -5  -3   0  -8  -9   1   5   2   0  -8   0  -5  -9   0  -7   1\n",
      "   0  -1   2 -10   1  -2  -7  -8   0   0  -2 -15   0  -8   0   0   2   0\n",
      "  -7 -14  -1 -14 -12  -7   0  -6  -3  10  -8  -7  -6   3  -3   3   0 -14\n",
      "   0  -2  -1   3  -7  -9   2  -8  -5   2  -6   4   0  -1   2 -15  -7   4\n",
      "   0  -5   0  -5  -4  -5   0   0   1   1   0   0   0   0   0  -4  -5   0\n",
      "  -6  -1  -1   0 -10   0   0   0  -9   0 -10   0   0  -1   0  -4  -9   0\n",
      "   1   1   3  -5 -12   0   7  -2  -4  -2  -8   0  -7  -8   0 -10  -8  -4\n",
      "   1   0  -7  -4  -1  -1  -3   0  -2  -7   0   0   2   0  -2  -9  -5   0\n",
      "   0   1  -2 -10   0   0   0   1  -6   3 -10  -6   0   0 -16   0   2  -7\n",
      "   1   1   1   1  -6  -5  -5   0 -15   3 -15   0  -4  -5   1 -11   0   0\n",
      " -11   1   1 -15   0  -2  -2   1   0   1 -16 -11   0   1   0 -13   0  -5\n",
      "  -6   2   0   0   0   0  -7   0   0   0   0  -2  -5  -9   0  -5  -8 -11\n",
      "   6  -5   0   3   2  -5   1  -5  -5   0  -4  -9   0   0   0   2   0  -4\n",
      "  -6  -9  -5  -4  -4   0   0   0  -1   0   2   0   1  -1   0   0   0   1\n",
      "   0 -11   0   4   1  -6  -7   2   2   4 -15  -7  -7   0  -8 -12  -1  -6\n",
      "  -7  -7  -1   3 -13   0   2  -1   2   0  -5 -11 -16   0  -3  -4   0  -1\n",
      "   0 -15   2 -12   0 -17  -6  -3  -3  -4 -17   0   0   0   1   1 -11   0\n",
      "  -4  -7   0   0   0  -6   5  -6   0 -19   2   4  -9  -8   0 -10   0   0\n",
      "  -5   0   1  -6   0  -7 -10  -9   0 -11   0   3  -1  -8 -16   3 -13   1\n",
      "   0  -2  -5  -2  -2  -9   0   2   0   1   0] 407\n",
      "0.003336191177368164\n",
      "True\n"
     ]
    }
   ],
   "source": [
    "weight = tflite_interpreter.tensor(2)()\n",
    "weight = np.array(weight * 127.0).astype(np.int16)\n",
    "print(weight.shape, weight.dtype)\n",
    "print(max(weight.ravel()), min(weight.ravel()))\n",
    "\n",
    "OFMCH = weight.shape[0]\n",
    "IFMCH = weight.shape[3]\n",
    "KerDim = weight.shape[1]\n",
    "\n",
    "IFMDim = 1\n",
    "OFMDim = 1\n",
    "kernel_val = weight.ravel()\n",
    "kernel = np.append([1, 0, KerDim, IFMCH, IFMDim, OFMCH, OFMDim], kernel_val)\n",
    "print(kernel, len(kernel))\n",
    "\n",
    "in_conv = allocate(shape=(len(kernel),), dtype=np.int16)\n",
    "out_conv = allocate(shape=(len(kernel),), dtype=np.int16)\n",
    "\n",
    "np.copyto(in_conv, kernel)\n",
    "\n",
    "start = time.time()\n",
    "dma.sendchannel.transfer(in_conv)\n",
    "dma.recvchannel.transfer(out_conv)\n",
    "dma.sendchannel.wait()\n",
    "dma.recvchannel.wait()\n",
    "end = time.time()\n",
    "fpga_runtime = end - start\n",
    "print(fpga_runtime)\n",
    "\n",
    "print((in_conv == out_conv).all())\n",
    "in_conv.close()\n",
    "out_conv.close()"
   ]
  },
  {
   "cell_type": "markdown",
   "id": "fa75cb96",
   "metadata": {},
   "source": [
    "# Load FC Weights"
   ]
  },
  {
   "cell_type": "code",
   "execution_count": 6,
   "id": "734b9f8f",
   "metadata": {},
   "outputs": [
    {
     "name": "stdout",
     "output_type": "stream",
     "text": [
      "(10, 576) int16\n",
      "27 -31\n",
      "[  2   0   1 ...  -6   0 -15] 5767\n",
      "0.0031185150146484375\n",
      "True\n"
     ]
    }
   ],
   "source": [
    "weight = tflite_interpreter.tensor(4)()\n",
    "weight = np.array(weight * 127.0).astype(np.int16)\n",
    "print(weight.shape, weight.dtype)\n",
    "print(max(weight.ravel()), min(weight.ravel()))\n",
    "\n",
    "OFMCH = weight.shape[0]\n",
    "IFMCH = weight.shape[1]\n",
    "\n",
    "KerDim = 1\n",
    "IFMDim = 1\n",
    "OFMDim = 1\n",
    "kernel_val = weight.ravel()\n",
    "kernel = np.append([2, 0, KerDim, IFMCH, IFMDim, OFMCH, OFMDim], kernel_val)\n",
    "print(kernel, len(kernel))\n",
    "\n",
    "in_fc = allocate(shape=(len(kernel),), dtype=np.int16)\n",
    "out_fc = allocate(shape=(len(kernel),), dtype=np.int16)\n",
    "\n",
    "np.copyto(in_fc, kernel)\n",
    "\n",
    "start = time.time()\n",
    "dma.sendchannel.transfer(in_fc)\n",
    "dma.recvchannel.transfer(out_fc)\n",
    "dma.sendchannel.wait()\n",
    "dma.recvchannel.wait()\n",
    "end = time.time()\n",
    "fpga_runtime = end - start\n",
    "print(fpga_runtime)\n",
    "\n",
    "print((in_fc == out_fc).all())\n",
    "in_fc.close()\n",
    "out_fc.close()"
   ]
  },
  {
   "cell_type": "markdown",
   "id": "791f14e6",
   "metadata": {},
   "source": [
    "# Tensorflow Lite Setup"
   ]
  },
  {
   "cell_type": "code",
   "execution_count": 7,
   "id": "8b5ee522",
   "metadata": {},
   "outputs": [],
   "source": [
    "f = open('mnist.pkl', 'rb')\n",
    "mnist_ds = pickle.load(f, encoding='bytes')\n",
    "f.close()\n",
    "(_, _), (x_test, y_test) = mnist_ds"
   ]
  },
  {
   "cell_type": "markdown",
   "id": "d31f90fb",
   "metadata": {},
   "source": [
    "# Load Image from Rand # and forward to DMA"
   ]
  },
  {
   "cell_type": "code",
   "execution_count": 8,
   "id": "3e1ee4c1",
   "metadata": {},
   "outputs": [
    {
     "name": "stdout",
     "output_type": "stream",
     "text": [
      "[   0 5827    0    0 2774   36  922  571 1914    0] 1\n",
      "0.002873659133911133\n"
     ]
    }
   ],
   "source": [
    "num = 2\n",
    "\n",
    "in_buffer = allocate(shape=(7 + 28*28,), dtype=np.int16)\n",
    "out_buffer = allocate(shape=(17,), dtype=np.int16)\n",
    "\n",
    "img = np.array(x_test[num] / 2).astype(np.int16)\n",
    "input_val = np.append([0, 1, 1, 1, 28, 10, 1], img.ravel())\n",
    "np.copyto(in_buffer, input_val)\n",
    "\n",
    "start = time.time()\n",
    "dma.sendchannel.transfer(in_buffer)\n",
    "dma.recvchannel.transfer(out_buffer)\n",
    "dma.sendchannel.wait()\n",
    "dma.recvchannel.wait()\n",
    "end = time.time()\n",
    "\n",
    "out = out_buffer[7:]\n",
    "print(out, y_test[num])\n",
    "\n",
    "fpga_runtime = end - start\n",
    "print(fpga_runtime)\n",
    "\n",
    "in_buffer.close()\n",
    "out_buffer.close()"
   ]
  },
  {
   "cell_type": "code",
   "execution_count": 9,
   "id": "259bca94",
   "metadata": {},
   "outputs": [
    {
     "name": "stdout",
     "output_type": "stream",
     "text": [
      "(16, 5, 5, 1) int8 10 -19\n",
      "(10, 576) int8 27 -31\n",
      "(28, 28, 1) 127 0 7\n",
      "True\n",
      "Runtime #  1.9316461086273193\n"
     ]
    }
   ],
   "source": [
    "import cnn\n",
    "\n",
    "conv_w = tflite_interpreter.tensor(2)()\n",
    "conv_w = np.array(conv_w * 127).astype(np.int8)\n",
    "print(conv_w.shape, conv_w.dtype, max(conv_w.ravel()), min(conv_w.ravel()))\n",
    "\n",
    "fc_w = tflite_interpreter.tensor(4)()\n",
    "fc_w = np.array(fc_w * 127).astype(np.int8)\n",
    "print(fc_w.shape, fc_w.dtype, max(fc_w.ravel()), min(fc_w.ravel()))\n",
    "\n",
    "\n",
    "img = np.array(x_test[0])\n",
    "img = (img / 2).astype(np.int16)\n",
    "img = np.expand_dims(img, axis=2)\n",
    "print(img.shape, max(img.ravel()), min(img.ravel()), y_test[0])\n",
    "\n",
    "cnn = cnn.Cnn()\n",
    "cnn.dtype = np.int32\n",
    "\n",
    "start = time.time()\n",
    "\n",
    "l1 = cnn.conv2d(img, conv_w)\n",
    "l1b = cnn.relu2d(l1, 3)\n",
    "l2 = cnn.maxpool2d(l1b, 4)\n",
    "l3 = cnn.flatten(l2)\n",
    "l4 = cnn.fc(l3, fc_w)\n",
    "print(list(l4).index(max(l4)) == y_test[0])\n",
    "end = time.time()\n",
    "\n",
    "arm_runtime = end - start\n",
    "print('Runtime # ', arm_runtime)"
   ]
  },
  {
   "cell_type": "code",
   "execution_count": null,
   "id": "fa7d1e2b",
   "metadata": {},
   "outputs": [],
   "source": [
    "in_buffer = allocate(shape=(7 + 28*28,), dtype=np.int16)\n",
    "out_buffer = allocate(shape=(17,), dtype=np.int16)\n",
    "\n",
    "acc = 0\n",
    "\n",
    "start = time.time()\n",
    "for i in range(len(y_test)):\n",
    "    img = np.array(x_test[i] / 2).astype(np.int16)\n",
    "    input_val = np.append([0, 1, 1, 1, 28, 10, 1], img.ravel())\n",
    "    np.copyto(in_buffer, input_val)\n",
    "\n",
    "    dma.sendchannel.transfer(in_buffer)\n",
    "    dma.recvchannel.transfer(out_buffer)\n",
    "    dma.sendchannel.wait()\n",
    "    dma.recvchannel.wait()\n",
    "    \n",
    "    out = out_buffer[7:]\n",
    "    out = list(out).index(max(out))\n",
    "    acc += 1 if out == y_test[i] else 0\n",
    "    print('\\r{}'.format(acc))\n",
    "    \n",
    "end = time.time()\n",
    "fpga_runtime = end - start\n",
    "print(fpga_runtime)\n",
    "\n",
    "in_buffer.close()\n",
    "out_buffer.close()"
   ]
  },
  {
   "cell_type": "code",
   "execution_count": null,
   "id": "f702cd06",
   "metadata": {},
   "outputs": [],
   "source": [
    "import cnn\n",
    "\n",
    "conv_w = tflite_interpreter.tensor(2)()\n",
    "conv_w = np.array(conv_w * 127).astype(np.int8)\n",
    "\n",
    "fc_w = tflite_interpreter.tensor(4)()\n",
    "fc_w = np.array(fc_w * 127).astype(np.int8)\n",
    "\n",
    "\n",
    "cnn = cnn.Cnn()\n",
    "cnn.dtype = np.int32\n",
    "\n",
    "start = time.time()\n",
    "acc_arm = 0\n",
    "\n",
    "for i in range(len(y_test)):\n",
    "    img = np.array(x_test[i] / 2).astype(np.int8)\n",
    "    img = np.expand_dims(img, 2)\n",
    "    l1 = cnn.conv2d(img, conv_w)\n",
    "    l1b = cnn.relu2d(l1, 3)\n",
    "    l2 = cnn.maxpool2d(l1b, 4)\n",
    "    l3 = cnn.flatten(l2)\n",
    "    l4 = cnn.fc(l3, fc_w)\n",
    "    acc_arm += 1 if y_test[i] == list(l4).index(max(l4)) else 0\n",
    "    print('\\r{}'.format(acc_arm))\n",
    "\n",
    "end = time.time()\n",
    "arm_runtime = end - start\n",
    "print('Runtime # ', arm_runtime)"
   ]
  },
  {
   "cell_type": "code",
   "execution_count": 12,
   "id": "00eb2e6a",
   "metadata": {},
   "outputs": [
    {
     "name": "stdout",
     "output_type": "stream",
     "text": [
      "ARM Run Time # 10000 =  1.9316461086273193\n",
      "FPGA Run Time # 10000 =  0.002873659133911133\n",
      "Total Acceleration 672.1904090267983\n"
     ]
    }
   ],
   "source": [
    "acc_rate = arm_runtime / fpga_runtime\n",
    "print('ARM Run Time # 10000 = ', arm_runtime)\n",
    "print('FPGA Run Time # 10000 = ', fpga_runtime)\n",
    "print('Total Acceleration', acc_rate)\n",
    "# print('Accuracy loss (Negative means accuracy increase) = ', (acc_arm - acc) / 100, '%')"
   ]
  },
  {
   "cell_type": "code",
   "execution_count": null,
   "id": "0dbba795",
   "metadata": {},
   "outputs": [],
   "source": []
  }
 ],
 "metadata": {
  "kernelspec": {
   "display_name": "Python 3",
   "language": "python",
   "name": "python3"
  },
  "language_info": {
   "codemirror_mode": {
    "name": "ipython",
    "version": 3
   },
   "file_extension": ".py",
   "mimetype": "text/x-python",
   "name": "python",
   "nbconvert_exporter": "python",
   "pygments_lexer": "ipython3",
   "version": "3.8.2"
  }
 },
 "nbformat": 4,
 "nbformat_minor": 5
}
